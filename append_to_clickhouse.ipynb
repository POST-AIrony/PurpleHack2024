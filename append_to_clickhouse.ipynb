{
 "cells": [
  {
   "cell_type": "code",
   "execution_count": null,
   "metadata": {},
   "outputs": [],
   "source": [
    "%pip install transformers torch clickhouse_connect accelerate"
   ]
  },
  {
   "cell_type": "code",
   "execution_count": null,
   "metadata": {},
   "outputs": [],
   "source": [
    "import clickhouse_connect\n",
    "import torch\n",
    "from transformers import AutoModel, AutoTokenizer"
   ]
  },
  {
   "cell_type": "code",
   "execution_count": null,
   "metadata": {},
   "outputs": [],
   "source": [
    "def mean_pooling(model_output, attention_mask):\n",
    "    token_embeddings = model_output[0]\n",
    "    input_mask_expanded = (\n",
    "        attention_mask.unsqueeze(-1).expand(token_embeddings.size()).float()\n",
    "    )\n",
    "    sum_embeddings = torch.sum(token_embeddings * input_mask_expanded, 1)\n",
    "    sum_mask = torch.clamp(input_mask_expanded.sum(1), min=1e-9)\n",
    "    return sum_embeddings / sum_mask\n",
    "\n",
    "\n",
    "def txt2embeddings(text: str, tokenizer, model, device=\"cpu\"):\n",
    "    encoded_input = tokenizer(\n",
    "        [text],\n",
    "        padding=True,\n",
    "        return_tensors=\"pt\",\n",
    "        truncation=True,\n",
    "        max_length=512,\n",
    "    )\n",
    "    encoded_input = {k: v.to(device) for k, v in encoded_input.items()}\n",
    "\n",
    "    with torch.no_grad():\n",
    "        model_output = model(**encoded_input)\n",
    "\n",
    "    return mean_pooling(model_output, encoded_input[\"attention_mask\"])\n",
    "\n",
    "\n",
    "def load_models(model):\n",
    "    tokenizer = AutoTokenizer.from_pretrained(model)\n",
    "    model = AutoModel.from_pretrained(model)\n",
    "    return tokenizer, model"
   ]
  },
  {
   "cell_type": "code",
   "execution_count": null,
   "metadata": {},
   "outputs": [],
   "source": [
    "TABLE_NAME = \"SbertEmb\"\n",
    "MODEL_NAME = \"ai-forever/sbert_large_nlu_ru\"\n",
    "HOST = \"\"\n",
    "PORT = \"80\""
   ]
  },
  {
   "cell_type": "code",
   "execution_count": 2,
   "metadata": {},
   "outputs": [],
   "source": [
    "text = \"\"\"От Об отмене Методических рекомендаций Банка России по усилению контроля операторами по переводу денежных средств за деятельностью банковских платежных агентов от 14 04 2016 11-МР \n",
    "С даты издания настоящего письма Банка России отменяются Методические рекомендации Банка России по усилению контроля операторами по переводу денежных средств за деятельностью банковских платежных агентов от 14 04 2016 11-МР \n",
    "Настоящее письмо Банка России подлежит опубликованию в Вестнике Банка России и размещению на официальном сайте Банка России в информационно-телекоммуникационной сети Интернет \n",
    "Первый заместитель Председателя Банка России О Н Скоробогатова\"\"\" #String\n",
    "title = \"Об отмене Методических рекомендаций Банка России по усилению контроля операторами по переводу денежных средств за деятельностью банковских платежных агентов от 14.04.2016 11-МР\"\n",
    "url = \"https://cbr.ru/Crosscut/LawActs/File/7673\" #String\n",
    "date = \"от 11.01.2024\" #String\n",
    "number = \"04-45/107\" #String"
   ]
  },
  {
   "cell_type": "code",
   "execution_count": null,
   "metadata": {},
   "outputs": [],
   "source": [
    "tokenizer, model = load_models(MODEL_NAME)"
   ]
  },
  {
   "cell_type": "code",
   "execution_count": null,
   "metadata": {},
   "outputs": [],
   "source": [
    "embeddings = txt2embeddings(text, model, tokenizer)"
   ]
  },
  {
   "cell_type": "code",
   "execution_count": null,
   "metadata": {},
   "outputs": [],
   "source": [
    "client = clickhouse_connect.get_client(host=HOST, port=PORT)\n",
    "print(\"Ping:\", client.ping())"
   ]
  },
  {
   "cell_type": "code",
   "execution_count": null,
   "metadata": {},
   "outputs": [],
   "source": [
    "values = f\"('{title}','{url}','{date}','{number}','{text}','[{embeddings}]'),\"\n",
    "query = f\"\"\"INSERT INTO \"{TABLE_NAME}\"(\"Name\",\"Url\",\"Date\",\"Number\", \"Text\", \"Embedding\") VALUES {values}\"\"\"\n",
    "client.command(query)"
   ]
  }
 ],
 "metadata": {
  "kernelspec": {
   "display_name": "Purple",
   "language": "python",
   "name": "python3"
  },
  "language_info": {
   "codemirror_mode": {
    "name": "ipython",
    "version": 3
   },
   "file_extension": ".py",
   "mimetype": "text/x-python",
   "name": "python",
   "nbconvert_exporter": "python",
   "pygments_lexer": "ipython3",
   "version": "3.11.8"
  }
 },
 "nbformat": 4,
 "nbformat_minor": 2
}
