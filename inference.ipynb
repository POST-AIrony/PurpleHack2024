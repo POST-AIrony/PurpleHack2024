{
 "cells": [
  {
   "cell_type": "markdown",
   "metadata": {},
   "source": [
    "# Использование проекта\n",
    "\n",
    "Этот блокнот предназначен для запуска чатбота и поиска документов в базе данных. Он использует модель RAG (Retriever-Reader) для поиска информации и ответов на вопросы пользователей. Блокнот включает в себя следующие шаги:\n",
    "1. Загрузка и инициализация необходимых моделей и инструментов.\n",
    "2. Обработка входного текста и поиск наиболее подходящего документа в базе данных.\n",
    "3. Генерация ответа на основе найденных документов или текста из базы данных.\n",
    "4. Взаимодействие с пользователем посредствам чата.\n",
    "5. Возможность добавления новых документов в базу данных для расширения базы знаний чатбота.\n",
    "\n",
    "Для работы блокнота необходимо наличие активного интернет-соединения и доступа к базе данных ClickHouse. Перед использованием убедитесь, что все необходимые зависимости установлены и база данных доступна.\n"
   ]
  },
  {
   "cell_type": "code",
   "execution_count": 1,
   "metadata": {},
   "outputs": [
    {
     "name": "stdout",
     "output_type": "stream",
     "text": [
      "Requirement already satisfied: torch in /home/rebelraider/anaconda3/envs/Purple/lib/python3.11/site-packages (2.2.1)\n",
      "Requirement already satisfied: clickhouse_connect in /home/rebelraider/anaconda3/envs/Purple/lib/python3.11/site-packages (0.7.2)\n",
      "Requirement already satisfied: scipy in /home/rebelraider/anaconda3/envs/Purple/lib/python3.11/site-packages (1.12.0)\n",
      "Requirement already satisfied: transformers in /home/rebelraider/anaconda3/envs/Purple/lib/python3.11/site-packages (4.38.2)\n",
      "Requirement already satisfied: accelerate in /home/rebelraider/anaconda3/envs/Purple/lib/python3.11/site-packages (0.27.2)\n",
      "Requirement already satisfied: filelock in /home/rebelraider/anaconda3/envs/Purple/lib/python3.11/site-packages (from torch) (3.13.1)\n",
      "Requirement already satisfied: typing-extensions>=4.8.0 in /home/rebelraider/anaconda3/envs/Purple/lib/python3.11/site-packages (from torch) (4.10.0)\n",
      "Requirement already satisfied: sympy in /home/rebelraider/anaconda3/envs/Purple/lib/python3.11/site-packages (from torch) (1.12)\n",
      "Requirement already satisfied: networkx in /home/rebelraider/anaconda3/envs/Purple/lib/python3.11/site-packages (from torch) (3.2.1)\n",
      "Requirement already satisfied: jinja2 in /home/rebelraider/anaconda3/envs/Purple/lib/python3.11/site-packages (from torch) (3.1.3)\n",
      "Requirement already satisfied: fsspec in /home/rebelraider/anaconda3/envs/Purple/lib/python3.11/site-packages (from torch) (2024.2.0)\n",
      "Requirement already satisfied: nvidia-cuda-nvrtc-cu12==12.1.105 in /home/rebelraider/anaconda3/envs/Purple/lib/python3.11/site-packages (from torch) (12.1.105)\n",
      "Requirement already satisfied: nvidia-cuda-runtime-cu12==12.1.105 in /home/rebelraider/anaconda3/envs/Purple/lib/python3.11/site-packages (from torch) (12.1.105)\n",
      "Requirement already satisfied: nvidia-cuda-cupti-cu12==12.1.105 in /home/rebelraider/anaconda3/envs/Purple/lib/python3.11/site-packages (from torch) (12.1.105)\n",
      "Requirement already satisfied: nvidia-cudnn-cu12==8.9.2.26 in /home/rebelraider/anaconda3/envs/Purple/lib/python3.11/site-packages (from torch) (8.9.2.26)\n",
      "Requirement already satisfied: nvidia-cublas-cu12==12.1.3.1 in /home/rebelraider/anaconda3/envs/Purple/lib/python3.11/site-packages (from torch) (12.1.3.1)\n",
      "Requirement already satisfied: nvidia-cufft-cu12==11.0.2.54 in /home/rebelraider/anaconda3/envs/Purple/lib/python3.11/site-packages (from torch) (11.0.2.54)\n",
      "Requirement already satisfied: nvidia-curand-cu12==10.3.2.106 in /home/rebelraider/anaconda3/envs/Purple/lib/python3.11/site-packages (from torch) (10.3.2.106)\n",
      "Requirement already satisfied: nvidia-cusolver-cu12==11.4.5.107 in /home/rebelraider/anaconda3/envs/Purple/lib/python3.11/site-packages (from torch) (11.4.5.107)\n",
      "Requirement already satisfied: nvidia-cusparse-cu12==12.1.0.106 in /home/rebelraider/anaconda3/envs/Purple/lib/python3.11/site-packages (from torch) (12.1.0.106)\n",
      "Requirement already satisfied: nvidia-nccl-cu12==2.19.3 in /home/rebelraider/anaconda3/envs/Purple/lib/python3.11/site-packages (from torch) (2.19.3)\n",
      "Requirement already satisfied: nvidia-nvtx-cu12==12.1.105 in /home/rebelraider/anaconda3/envs/Purple/lib/python3.11/site-packages (from torch) (12.1.105)\n",
      "Requirement already satisfied: triton==2.2.0 in /home/rebelraider/anaconda3/envs/Purple/lib/python3.11/site-packages (from torch) (2.2.0)\n",
      "Requirement already satisfied: nvidia-nvjitlink-cu12 in /home/rebelraider/anaconda3/envs/Purple/lib/python3.11/site-packages (from nvidia-cusolver-cu12==11.4.5.107->torch) (12.4.99)\n",
      "Requirement already satisfied: certifi in /home/rebelraider/anaconda3/envs/Purple/lib/python3.11/site-packages (from clickhouse_connect) (2024.2.2)\n",
      "Requirement already satisfied: urllib3>=1.26 in /home/rebelraider/anaconda3/envs/Purple/lib/python3.11/site-packages (from clickhouse_connect) (2.2.1)\n",
      "Requirement already satisfied: pytz in /home/rebelraider/anaconda3/envs/Purple/lib/python3.11/site-packages (from clickhouse_connect) (2024.1)\n",
      "Requirement already satisfied: zstandard in /home/rebelraider/anaconda3/envs/Purple/lib/python3.11/site-packages (from clickhouse_connect) (0.22.0)\n",
      "Requirement already satisfied: lz4 in /home/rebelraider/anaconda3/envs/Purple/lib/python3.11/site-packages (from clickhouse_connect) (4.3.3)\n",
      "Requirement already satisfied: numpy<1.29.0,>=1.22.4 in /home/rebelraider/anaconda3/envs/Purple/lib/python3.11/site-packages (from scipy) (1.26.4)\n",
      "Requirement already satisfied: huggingface-hub<1.0,>=0.19.3 in /home/rebelraider/anaconda3/envs/Purple/lib/python3.11/site-packages (from transformers) (0.21.4)\n",
      "Requirement already satisfied: packaging>=20.0 in /home/rebelraider/anaconda3/envs/Purple/lib/python3.11/site-packages (from transformers) (23.2)\n",
      "Requirement already satisfied: pyyaml>=5.1 in /home/rebelraider/anaconda3/envs/Purple/lib/python3.11/site-packages (from transformers) (6.0.1)\n",
      "Requirement already satisfied: regex!=2019.12.17 in /home/rebelraider/anaconda3/envs/Purple/lib/python3.11/site-packages (from transformers) (2023.12.25)\n",
      "Requirement already satisfied: requests in /home/rebelraider/anaconda3/envs/Purple/lib/python3.11/site-packages (from transformers) (2.31.0)\n",
      "Requirement already satisfied: tokenizers<0.19,>=0.14 in /home/rebelraider/anaconda3/envs/Purple/lib/python3.11/site-packages (from transformers) (0.15.2)\n",
      "Requirement already satisfied: safetensors>=0.4.1 in /home/rebelraider/anaconda3/envs/Purple/lib/python3.11/site-packages (from transformers) (0.4.2)\n",
      "Requirement already satisfied: tqdm>=4.27 in /home/rebelraider/anaconda3/envs/Purple/lib/python3.11/site-packages (from transformers) (4.66.2)\n",
      "Requirement already satisfied: psutil in /home/rebelraider/anaconda3/envs/Purple/lib/python3.11/site-packages (from accelerate) (5.9.0)\n",
      "Requirement already satisfied: MarkupSafe>=2.0 in /home/rebelraider/anaconda3/envs/Purple/lib/python3.11/site-packages (from jinja2->torch) (2.1.5)\n",
      "Requirement already satisfied: charset-normalizer<4,>=2 in /home/rebelraider/anaconda3/envs/Purple/lib/python3.11/site-packages (from requests->transformers) (3.3.2)\n",
      "Requirement already satisfied: idna<4,>=2.5 in /home/rebelraider/anaconda3/envs/Purple/lib/python3.11/site-packages (from requests->transformers) (3.6)\n",
      "Requirement already satisfied: mpmath>=0.19 in /home/rebelraider/anaconda3/envs/Purple/lib/python3.11/site-packages (from sympy->torch) (1.3.0)\n",
      "Note: you may need to restart the kernel to use updated packages.\n"
     ]
    }
   ],
   "source": [
    "%pip install torch clickhouse_connect scipy transformers accelerate"
   ]
  },
  {
   "cell_type": "markdown",
   "metadata": {},
   "source": [
    "## Константы для конфигурации системы RAG\n",
    "\n",
    "В данной ячейке определены константы, которые используются для настройки системы RAG (Retriever-Reader) для работы с документами Центрального Банка России.\n",
    "\n",
    "### Список констант:\n",
    "\n",
    "- `HOST`: Адрес сервера для подключения к базе данных ClickHouse.\n",
    "- `PORT`: Порт для подключения к серверу ClickHouse.\n",
    "- `TABLE_NAME`: Имя таблицы в базе данных ClickHouse, где хранятся данные.\n",
    "- `MODEL_EMB_NAME`: Название модели для генерации векторных представлений текста (эмбеддингов).\n",
    "- `MODEL_CHAT_NAME`: Название модели для обработки запросов от пользователей и генерации ответов.\n",
    "- `SYSTEM_PROMPT`: Инструкция для системы RAG, указывающая правила для генерации ответов и контактную информацию для поддержки.\n",
    "\n",
    "Эти константы используются в коде для подключения к базе данных, загрузки моделей и управления поведением системы RAG.\n"
   ]
  },
  {
   "cell_type": "code",
   "execution_count": 2,
   "metadata": {},
   "outputs": [],
   "source": [
    "HOST = \"f666-81-5-106-50.ngrok-free.app\"\n",
    "PORT = \"80\"\n",
    "TABLE_NAME = \"Data\"\n",
    "MODEL_EMB_NAME = \"ai-forever/sbert_large_nlu_ru\"\n",
    "MODEL_CHAT_NAME = \"TinyLlama/TinyLlama-1.1B-Chat-v1.0\"\n",
    "SYSTEM_PROMPT = \"\"\"\n",
    "INSTRUCT:\n",
    "You are a helpful, respectful and honest assistant. Always answer as helpfully as possible, while being safe. Your answers should not include any harmful, unethical, racist, sexist, toxic, dangerous, or illegal content. Please ensure that your responses are socially unbiased and positive in nature.\n",
    "\n",
    "If a question does not make any sense, or is not factually coherent, explain why instead of answering something not correct. If you don’t know the answer to a question, please don’t share false information.\n",
    "\n",
    "If you receive a question that is harmful, unethical, or inappropriate, end the dialogue immediately and do not provide a response. \n",
    "\n",
    "If you make a mistake, apologize and correct your answer.\n",
    "\n",
    "Generate a response based solely on the provided document.\n",
    "\n",
    "Answer the following question language based only on the CONTEXT provided.\n",
    "\n",
    "If you are unsure about your answer or the information in the document, suggest contacting support:\n",
    "Номер телефона: 8 800 300-30-00\n",
    "Почтовый адрес для письменных обращений: 107016, Москва, ул. Неглинная, д. 12, к. В, Банк России\n",
    "\n",
    "Отвечай только на русском языке.\n",
    "\"\"\""
   ]
  },
  {
   "cell_type": "code",
   "execution_count": 3,
   "metadata": {},
   "outputs": [],
   "source": [
    "import clickhouse_connect, torch\n",
    "from transformers import AutoModel, AutoTokenizer, Conversation, pipeline\n",
    "from typing import List, Union"
   ]
  },
  {
   "cell_type": "markdown",
   "metadata": {},
   "source": [
    "## Функции для инициализации и работы с моделями\n",
    "\n",
    "В данной ячейке определены функции, которые используются для инициализации моделей и выполнения операций с ними в рамках системы RAG (Retriever-Reader) для обработки запросов от пользователей.\n",
    "\n",
    "### Список функций:\n",
    "\n",
    "- `search_results(connection, table_name, vector, limit)`: Поиск результатов похожих векторов в базе данных.\n",
    "- `mean_pooling(model_output, attention_mask)`: Усреднение токенов входной последовательности на основе attention mask.\n",
    "- `txt2embeddings(text, tokenizer, model, device)`: Преобразование текста в его векторное представление с использованием модели transformer.\n",
    "- `load_models(model, device, torch_dtype)`: Загрузка токенизатора и модели для указанной предобученной модели.\n",
    "- `load_chatbot(model, device, torch_dtype)`: Загрузка чатбота для указанной модели.\n",
    "- `append_documents_to_conversation(conversation, documents, limit)`: Добавление документов к чату чатбота.\n",
    "- `generate_answer(chatbot, conversation, max_new_tokens, temperature, top_k, top_p, repetition_penalty, do_sample, num_beams, early_stopping)`: Генерация ответа от чатбота на основе предоставленного чата и документа.\n",
    "\n",
    "Эти функции используются для инициализации моделей, выполнения поиска, обработки текста и генерации ответов от чатбота в системе RAG.\n"
   ]
  },
  {
   "cell_type": "code",
   "execution_count": 4,
   "metadata": {},
   "outputs": [],
   "source": [
    "def search_results(connection, table_name: str, vector: list[float], limit: int = 5):\n",
    "    \"\"\"\n",
    "    Поиск результатов похожих векторов в базе данных.\n",
    "\n",
    "    Parameters:\n",
    "    - connection (Connection): Соединение с базой данных.\n",
    "    - table_name (str): Название таблицы, содержащей вектора и другие данные.\n",
    "    - vector (List[float]): Вектор для сравнения.\n",
    "    - limit (int): Максимальное количество результатов.\n",
    "\n",
    "    Returns:\n",
    "    - List[dict]: Список результатов с наименованием, URL, датой, номером, текстом и расстоянием.\n",
    "\n",
    "    Examples:\n",
    "    >>> connection = Connection(...)\n",
    "    >>> vector = [0.1, 0.2, 0.3]\n",
    "    >>> results = search_results(connection, 'my_table', vector, limit=5)\n",
    "    \"\"\"\n",
    "    res = []\n",
    "    # Инициализируем список результатов\n",
    "    vector = \",\".join([str(float(i)) for i in vector])\n",
    "    # Выполняем запрос к базе данных\n",
    "    with connection.query(\n",
    "        f\"\"\"SELECT Text, Number, Date, Title, FileType, Url, ChunkType, cosineDistance(({vector}), Embedding) as score FROM {table_name} ORDER BY score ASC LIMIT {limit+500}\"\"\"\n",
    "    ).rows_stream as stream:\n",
    "        for item in stream:\n",
    "            text, number, date, title, file_type, url, chunk_type, score = item\n",
    "\n",
    "            # Добавляем результат в список\n",
    "            res.append(\n",
    "                {\n",
    "                    \"text\": text,\n",
    "                    \"title\": title,\n",
    "                    \"url\": url,\n",
    "                    \"date\": date,\n",
    "                    \"number\": number,\n",
    "                    \"file_type\": file_type,\n",
    "                    \"chunk_type\": chunk_type,\n",
    "                    \"distance\": score,\n",
    "                }\n",
    "            )\n",
    "\n",
    "    # Возвращаем первые limit результатов\n",
    "    res = [item for item in res if len(item[\"text\"]) > 100]\n",
    "    return res[:limit]\n",
    "\n",
    "\n",
    "def mean_pooling(model_output: tuple, attention_mask: torch.Tensor) -> torch.Tensor:\n",
    "    \"\"\"\n",
    "    Выполняет усреднение токенов входной последовательности на основе attention mask.\n",
    "\n",
    "    Parameters:\n",
    "    - model_output (tuple): Выход модели, включающий токенов эмбеддинги и другие данные.\n",
    "    - attention_mask (torch.Tensor): Маска внимания для указания значимости токенов.\n",
    "\n",
    "    Returns:\n",
    "    - torch.Tensor: Усредненный эмбеддинг.\n",
    "\n",
    "    Examples:\n",
    "    >>> embeddings = model_output[0]\n",
    "    >>> mask = torch.tensor([[1, 1, 1, 0, 0]])\n",
    "    >>> pooled_embedding = mean_pooling((embeddings,), mask)\n",
    "    \"\"\"\n",
    "    # Получаем эмбеддинги токенов из выхода модели\n",
    "    token_embeddings = model_output[0]\n",
    "\n",
    "    # Расширяем маску внимания для умножения с эмбеддингами\n",
    "    input_mask_expanded = (\n",
    "        attention_mask.unsqueeze(-1).expand(token_embeddings.size()).float()\n",
    "    )\n",
    "\n",
    "    # Умножаем каждый токен на его маску и суммируем\n",
    "    sum_embeddings = torch.sum(token_embeddings * input_mask_expanded, 1)\n",
    "\n",
    "    # Суммируем маски токенов и обрезаем значения, чтобы избежать деления на ноль\n",
    "    sum_mask = torch.clamp(input_mask_expanded.sum(1), min=1e-9)\n",
    "\n",
    "    # Вычисляем усредненный эмбеддинг\n",
    "    return sum_embeddings / sum_mask\n",
    "\n",
    "\n",
    "def txt2embeddings(\n",
    "    text: Union[str, List[str]], tokenizer, model, device: str = \"cpu\"\n",
    ") -> torch.Tensor:\n",
    "    \"\"\"\n",
    "    Преобразует текст в его векторное представление с использованием модели transformer.\n",
    "\n",
    "    Parameters:\n",
    "    - text (str): Текст для преобразования в векторное представление.\n",
    "    - tokenizer: Токенизатор для предобработки текста.\n",
    "    - model: Модель transformer для преобразования токенов в вектора.\n",
    "    - device (str): Устройство для вычислений (cpu или cuda).\n",
    "\n",
    "    Returns:\n",
    "    - torch.Tensor: Векторное представление текста.\n",
    "\n",
    "    Examples:\n",
    "    >>> text = \"Пример текста\"\n",
    "    >>> tokenizer = AutoTokenizer.from_pretrained(\"bert-base-multilingual-cased\")\n",
    "    >>> model = AutoModel.from_pretrained(\"bert-base-multilingual-cased\")\n",
    "    >>> embeddings = txt2embeddings(text, tokenizer, model, device=\"cuda\")\n",
    "    \"\"\"\n",
    "    # Кодируем входной текст с помощью токенизатора\n",
    "    if isinstance(text, str):\n",
    "        text = [text]\n",
    "    encoded_input = tokenizer(\n",
    "        text,\n",
    "        padding=True,\n",
    "        truncation=True,\n",
    "        return_tensors=\"pt\",\n",
    "        max_length=512,\n",
    "    )\n",
    "    # Перемещаем закодированный ввод на указанное устройство\n",
    "    encoded_input = {k: v.to(device) for k, v in encoded_input.items()}\n",
    "\n",
    "    # Получаем выход модели для закодированного ввода\n",
    "    with torch.no_grad():\n",
    "        model_output = model(**encoded_input)\n",
    "\n",
    "    # Преобразуем выход модели в векторное представление текста\n",
    "    return mean_pooling(model_output, encoded_input[\"attention_mask\"])\n",
    "\n",
    "\n",
    "def load_models(model: str, device: str = \"cpu\", torch_dtype: str = \"auto\") -> tuple:\n",
    "    \"\"\"\n",
    "    Загружает токенизатор и модель для указанной предобученной модели.\n",
    "\n",
    "    Parameters:\n",
    "    - model (str): Название предобученной модели, поддерживаемой библиотекой transformers.\n",
    "\n",
    "    Returns:\n",
    "    - tuple: Кортеж из токенизатора и модели.\n",
    "\n",
    "    Examples:\n",
    "    >>> tokenizer, model = load_models(\"ai-forever/sbert_large_nlu_ru\")\n",
    "    \"\"\"\n",
    "    # Загружаем токенизатор для модели\n",
    "    tokenizer = AutoTokenizer.from_pretrained(\n",
    "        model, device_map=device, torch_dtype=torch_dtype\n",
    "    )\n",
    "\n",
    "    # Загружаем модель\n",
    "    model = AutoModel.from_pretrained(model, device_map=device, torch_dtype=torch_dtype)\n",
    "\n",
    "    return tokenizer, model\n",
    "\n",
    "\n",
    "def load_chatbot(model: str, device: str = \"cuda\", torch_dtype: str = \"auto\"):\n",
    "    \"\"\"\n",
    "    Загружает чатбота для указанной модели.\n",
    "\n",
    "    Parameters:\n",
    "    - model (str): Название модели для загрузки чатбота.\n",
    "\n",
    "    Returns:\n",
    "    - Conversation: Объект чатбота, готовый для использования.\n",
    "\n",
    "    Examples:\n",
    "    >>> chatbot = load_chatbot(\"TinyLlama/TinyLlama-1.1B-Chat-v1.0\")\n",
    "    \"\"\"\n",
    "    # Загружаем чатбот с помощью pipeline из библиотеки transformers\n",
    "    chatbot = pipeline(\n",
    "        model=model,\n",
    "        trust_remote_code=True,\n",
    "        torch_dtype=torch_dtype,\n",
    "        device_map=device,\n",
    "        task=\"conversational\",\n",
    "    )\n",
    "    return chatbot\n",
    "\n",
    "\n",
    "def append_documents_to_conversation(conversation, documents, limit: int = 3):\n",
    "    if limit > len(documents):\n",
    "        texts = [document[\"text\"] for document in documents]\n",
    "    else:\n",
    "        texts = [document[\"text\"] for document in documents[:limit]]\n",
    "\n",
    "    text = \"\\n\".join(texts)\n",
    "\n",
    "    document_template = f\"\"\"\n",
    "    CONTEXT:\n",
    "    {text}\n",
    "    Отвечай только на русском языке.\n",
    "    \n",
    "    ВОПРОС:\n",
    "    \"\"\"\n",
    "    conversation.add_message({\"role\": \"user\", \"content\": document_template})\n",
    "\n",
    "    return conversation\n",
    "        \n",
    "\n",
    "def generate_answer(\n",
    "    chatbot,\n",
    "    conversation: Conversation,\n",
    "    max_new_tokens: int = 128,\n",
    "    temperature=0.7,\n",
    "    top_k: int = 50,\n",
    "    top_p: float = 0.95,\n",
    "    repetition_penalty: float = 2.0,\n",
    "    do_sample: bool = True,\n",
    "    num_beams: int = 2,\n",
    "    early_stopping: bool = True,\n",
    ") -> str:\n",
    "    \"\"\"\n",
    "    Генерирует ответ от чатбота на основе предоставленного чата и, возможно, документа.\n",
    "\n",
    "    Parameters:\n",
    "    - chatbot (Conversation): Объект чатбота.\n",
    "    - chat (List[Dict[str, str]]): Список сообщений в чате.\n",
    "    - document (str): Документ, если он предоставлен.\n",
    "\n",
    "    Returns:\n",
    "    - str: Сгенерированный ответ от чатбота.\n",
    "\n",
    "    Examples:\n",
    "    >>> chat = [\n",
    "    >>>     {\"role\": \"user\", \"content\": \"Привет, как дела?\"},\n",
    "    >>>     {\"role\": \"system\", \"content\": \"Всё отлично, спасибо!\"},\n",
    "    >>> ]\n",
    "    >>> document = \"Это документ для обработки\"\n",
    "    >>> answer = generate_answer(chatbot, chat, document)\n",
    "    \"\"\"\n",
    "    # Генерируем ответ от чатбота\n",
    "    conversation = chatbot(\n",
    "        conversation,\n",
    "        max_new_tokens=max_new_tokens,\n",
    "        temperature=temperature,\n",
    "        top_k=top_k,\n",
    "        top_p=top_p,\n",
    "        repetition_penalty=repetition_penalty,\n",
    "        do_sample=do_sample,\n",
    "        num_beams=num_beams,\n",
    "        early_stopping=early_stopping,\n",
    "    )\n",
    "\n",
    "    # Возвращаем последнее сообщение чатбота как ответ\n",
    "    return conversation"
   ]
  },
  {
   "cell_type": "markdown",
   "metadata": {},
   "source": [
    "### Загрузка модели и токенизатора\n",
    "\n",
    "Загружаем модель и токенизатор для создания векторных представлений текста."
   ]
  },
  {
   "cell_type": "code",
   "execution_count": 5,
   "metadata": {},
   "outputs": [],
   "source": [
    "tokenizer, model = load_models(MODEL_EMB_NAME, device=\"cpu\")"
   ]
  },
  {
   "cell_type": "markdown",
   "metadata": {},
   "source": [
    "В данной ячейке создается объект разговора (`conversation`), который представляет собой хранилище сообщений чата с чатботом. Системная инструкция (`SYSTEM_PROMPT`) добавляется в качестве первого сообщения в разговор. Данный объект будет использоваться для взаимодействия с чатботом и хранения истории общения.\n"
   ]
  },
  {
   "cell_type": "code",
   "execution_count": 6,
   "metadata": {},
   "outputs": [],
   "source": [
    "# Создаем объект разговора\n",
    "conversation = Conversation()\n",
    "# Добавляем системную инструкцию\n",
    "conversation.add_message({\"role\": \"system\", \"content\": SYSTEM_PROMPT})"
   ]
  },
  {
   "cell_type": "markdown",
   "metadata": {},
   "source": [
    "## Поле ввода\n",
    "\n",
    "Это поле предназначено для ввода вашего вопроса. Введите вопрос, на который вы хотели бы получить ответ от модели RAG. Например, \"Какова роль Центробанка России в экономике?\" или \"Что такое ключевая ставка Центробанка?\".\n"
   ]
  },
  {
   "cell_type": "code",
   "execution_count": 7,
   "metadata": {},
   "outputs": [],
   "source": [
    "question = \"Расскажи о том, что такое инфляция? Какой уровень инфляции в России?\" #String"
   ]
  },
  {
   "cell_type": "markdown",
   "metadata": {},
   "source": [
    "### Получение векторных представлений\n",
    "\n",
    "1. Преобразуем вопрос в векторные представления при помощи модели и токенизатора.\n"
   ]
  },
  {
   "cell_type": "code",
   "execution_count": 8,
   "metadata": {},
   "outputs": [],
   "source": [
    "embedding = txt2embeddings(question, tokenizer, model)"
   ]
  },
  {
   "cell_type": "markdown",
   "metadata": {},
   "source": [
    "### Подключение к ClickHouse\n",
    "\n",
    "3. Устанавливаем соединение с ClickHouse и проверяем доступность сервера.\n",
    "\n",
    "**<font color='red'>Внимание!</font>** Если сервер недоступен, свяжитесь с [хостом](https://t.me/allelleo)."
   ]
  },
  {
   "cell_type": "code",
   "execution_count": 9,
   "metadata": {},
   "outputs": [
    {
     "name": "stdout",
     "output_type": "stream",
     "text": [
      "Ping: True\n"
     ]
    }
   ],
   "source": [
    "client = clickhouse_connect.get_client(host=HOST, port=PORT)\n",
    "print(\"Ping:\", client.ping())"
   ]
  },
  {
   "cell_type": "markdown",
   "metadata": {},
   "source": [
    "## Поиск результатов\n",
    "\n",
    "Этот блок кода выполняет поиск результатов похожих векторов в базе данных.\n"
   ]
  },
  {
   "cell_type": "code",
   "execution_count": 10,
   "metadata": {},
   "outputs": [
    {
     "name": "stdout",
     "output_type": "stream",
     "text": [
      "{'text': 'социологических социологических данных о восприятии инфляции было показано, что на длительном временном интервале с 1998 по 2008 год все пять частных компонент ИПН имели статистически значимую и отрицательную корреляцию с индексом инфляции Росстата, а также с индексом ожидаемой инфляции. ООО инФОМ Декабрь 2018 45 ООО инФОМ', 'title': 'Инфляционные ожидания', 'url': 'https://cbr.ru/Collection/Collection/File/27052/Infl_exp_18-12.pdf', 'date': 'Не указано', 'number': 'Не указано', 'file_type': 'pdf', 'chunk_type': 'Recursive', 'distance': 0.38661225784903486}\n",
      "{'text': 'год год Инфляция на потребительском рынке Июль 2009 год 9 Инфляция на потребительском рынке 10 Июль 2009 год Инфляция на потребительском рынке Июль 2009 год 11 Инфляция на потребительском рынке 12 Июль 2009 год Инфляция на потребительском рынке Июль 2009 год 13', 'title': 'Инфляция на потребительском рынке', 'url': 'https://cbr.ru/Collection/Collection/File/19565/Infl_01072009.pdf', 'date': 'Не указано', 'number': 'Не указано', 'file_type': 'pdf', 'chunk_type': 'Recursive', 'distance': 0.38921007248295536}\n",
      "{'text': 'ключевую ключевую ставку в общей сложности в два раза, до 8,50. По итогам года инфляция в России превысила целевой уровень и составила 8,4. Больше всего подорожали продовольственные товары, в первую очередь продукты животного происхождения. Среди непродовольственных товаров максимальный прирост зафиксирован в ценах на строительные материалы, а наибольший вклад в ускорение инфляции внесло увеличение цен на автомобили. Вместе с тем решения о повышении ключевой ставки постепенно транслировались в экономику. Ставки в сегменте овернайт денежного рынка формировались вблизи ключевой ставки с небольшим отрицательным спредом и изменялись практически синхронно с ней. В среднем за 2021 год абсолютное отклонение ставки от ключевой ставки составило 19 базисных пунк тов. Во второй половине 2021 года выросли процентные ставки по основным банковским операциям в руб лях. За год средневзвешенная процентная ставка по вновь выданным корпоративным кредитам на срок свыше 1 года увеличилась на 1,9 процентного пункта, до 8,9 8,9', 'title': 'Годовой отчет Банка России', 'url': 'https://cbr.ru/Collection/Collection/File/40915/ar_2021.pdf', 'date': 'Не указано', 'number': 'Не указано', 'file_type': 'pdf', 'chunk_type': 'Recursive', 'distance': 0.3914977143270947}\n",
      "{'text': 'инфляция инфляция Ожидаемая инфляция Доля людей, считающих, что цены за год выросли более чем на 50 РисРисРисРис. 7.7.7.7. Доля людей, считающих, что цены за год выросли более чем на 50 Доля людей, считающих, что цены за год выросли более чем на 50 Доля людей, считающих, что цены за год выросли более чем на 50 Данные в от считающих, что цены за год выросли 5 Методика расчета медианы приведена в Приложении 2. ООО инФОМ Декабрь 2015 7777 Мониторинг инфляционных ожиданий и потребительских настроений Ожидания относительно уровня инфляции к концу 2017 года РисРисРисРис. 8.8.8.8. Ожидания относительно уровня инфляции к концу 2017 года Ожидания относительно уровня инфляции к концу 2017 года Ожидания относительно уровня инфляции к концу 2017 года По официальным данным, в 2014 году рост цен в России составил 11,4. Российской Федерации намерен добиться, чтобы к концу 2017 года рост цен не превышал 4 в год. Как Вы считаете, будет ли рост цен к концу 2017 года таким, как планирует ?6 Данные в всех опрошенных 26 29 23', 'title': 'Инфляционные ожидания', 'url': 'https://cbr.ru/Collection/Collection/File/27010/Infl_exp_15-12.pdf', 'date': 'Не указано', 'number': 'Не указано', 'file_type': 'pdf', 'chunk_type': 'Recursive', 'distance': 0.39448772781771635}\n",
      "{'text': 'контролировать контролировать инфляцию Как Вы думаете, кто в нашей стране, какие органы власти или организации отвечают за сдерживание инфляции, роста цен? Вопрос не задавался тем, кто считает, что инфляцию невозможно сдерживать. Данные в от всех опрошенных апр. 15 апр. 16 апр. 17 Правительство в целом 18 13 14 Центробанк 6 4 7 Президент 5 4 4 Министерство финансов 4 3 4 Власти, государство в целом 4 2 3 Госдума, депутаты 2 2 1 Министерство экономического развития 2 2 Местные власти 5 1 1 Банки 1 1 Д. Медведев 1 1 Федеральная антимонопольная служба 1 1 1 Роспотребнадзор 1 1 Администрация президента 1 Экономисты, финансисты 1 Банки 1 Правоохранительные и надзорные структуры, прокуратура 2 Другое 1 1 2 Никто, никакие 2 6 5 Затрудняюсь ответить, нет ответа 22 28 22 ООО инФОМ Апрель 2017 26 Общие представления об инфляции Рис. 37. Оценка работы органов власти по контролю инфляции На Ваш взгляд, названные Вами органы власти или организации справляются со сдерживанием инфляции, роста цен хорошо или плохо? Вопрос', 'title': 'Инфляционные ожидания', 'url': 'https://cbr.ru/Collection/Collection/File/26994/Infl_exp_17-04.pdf', 'date': 'Не указано', 'number': 'Не указано', 'file_type': 'pdf', 'chunk_type': 'Recursive', 'distance': 0.39463729825568594}\n",
      "{'text': 'выросла выросла до 19,8 максимального значения за все время замеров на тот момент. А в этом месяце она выросла ещё почти в полтора раза уже до 27,4. При этом также сильно увеличилась доля людей, считающих, что цены за последний год выросли более, чем на 50: если в декабре 2014 года она составляла 3,7, в январе 7,8, то в феврале уже 16,4 см. рис. 8. Рост значений ожидаемой годовой инфляции оказался значительно скромнее всего на 1,5 п. п. и сейчас ее значение составляет 18,1. Вероятно, население России надеется, что худшие времена уже позади, основной пик инфляции уже прошёл, и дальше ситуация будет постепенно улучшаться. По данным Росстата, темпы инфляции в последнее время, действительно, увеличивались от месяца к месяцу: рост цен на товары и услуги составил 0,8 в октябре 2014 года, 1,3 в ноябре, 2,6 в декабре и 3,9 в январе 2015 года. В результате значение годовой инфляции выросло с 6,1 в январе 2014 года до 15,0 в январе 2015 года. В феврале 2015 года рост цен продолжился и составил 1,9 за период с 1 по 24', 'title': 'Инфляционные ожидания', 'url': 'https://cbr.ru/Collection/Collection/File/27020/Infl_exp_15-02.pdf', 'date': 'Не указано', 'number': 'Не указано', 'file_type': 'pdf', 'chunk_type': 'Recursive', 'distance': 0.3949043776836999}\n",
      "{'text': 'РФ РФ 6 против 2 летом 2014 года; также чуть чаще упоминаются местные власти 5 против 2 и министерство финансов 4 против 2. Рис. 10. Представления о возможности контролировать инфляцию Инфляция это обесценивание денег, падение их покупательной способности, ведущее к росту цен. Одни считают, что в условиях рыночной экономики инфляцию, рост цен в принципе невозможно сдерживать, контролировать. Другие считают, что при рыночной экономике инфляцию можно сдерживать, контролировать. Какая точка зрения первая или вторая Вам ближе? всех опрошенных 50 инфляцию невозможно сдерживать 37 50 евозможно сдерживать 37 34 инфляцию можно сдерживать 46 34 ию можно сдерживать 16 46 затрудняюсь ответить 17 16 затрудняюсь ответить 17 июнь 2014 апр. 15 37 50 инфляцию невозможно сдерживать 37 34 инфляцию можно сдерживать 34 инфляцию можно сдерживать 16 46 затрудняюсь ответить 17 16 затрудняюсь ответить 17 июнь 2014 апр. 15 июнь 2014 апр. 15 инфляцию н инфляц 37 50 евозможно сдерживать 37 34 инфляцию можно сдерживать 34 ию можно', 'title': 'Инфляционные ожидания', 'url': 'https://cbr.ru/Collection/Collection/File/27018/Infl_exp_15-04.pdf', 'date': 'Не указано', 'number': 'Не указано', 'file_type': 'pdf', 'chunk_type': 'Recursive', 'distance': 0.3959798899161684}\n",
      "{'text': 'год год Инфляция на потребительском рынке Январь 2011 год 9 Инфляция на потребительском рынке 10 Январь 2011 год Инфляция на потребительском рынке Январь 2011 год 11 Инфляция на потребительском рынке 12 Январь 2011 год Инфляция на потребительском рынке Январь 2011 год 13', 'title': 'Инфляция на потребительском рынке', 'url': 'https://cbr.ru/Collection/Collection/File/19547/Infl_01012011.pdf', 'date': 'Не указано', 'number': 'Не указано', 'file_type': 'pdf', 'chunk_type': 'Recursive', 'distance': 0.3966164780393602}\n",
      "{'text': 'рубль рубль будет продолжать падать, снизилась до рекордных 26, а число тех, кто верит в рост курса национальной валюты, наоборот, выросло до рекордных 24. 1 ООО инФОМ Январь 2015 Инфляционные ожидания населения Показатели потребительского оптимизма россиян существенно ухудшились по сравнению с декабрём. Число респондентов, считающих нынешнее время неблагоприятным для совершения крупных покупок, выросло до рекордных 40. А доля тех, кто считает, что сейчас не время брать кредит, до 59. На фоне всеобщего роста пессимизма сберегательные установки россиян стабилизировались, однако число пессимистов в данном вопросе по-прежнему существенно превышает число оптимистов 44 против 14. В январе уже в пятый раз подряд произошло снижение всех измеряемых показателей, характеризующих настроения россиян. Индекс текущего состояния резко упал на 14,4 пункта, а Индекс ожиданий на 2,9 пунктов. Это привело к снижению совокупного Индекса потребительских настроений ИПН с 90 до 83 пунктов. Столь низко ни ИПН, ни его отдельные', 'title': 'Инфляционные ожидания', 'url': 'https://cbr.ru/Collection/Collection/File/27021/Infl_exp_15-01.pdf', 'date': 'Не указано', 'number': 'Не указано', 'file_type': 'pdf', 'chunk_type': 'Recursive', 'distance': 0.39883930419469216}\n",
      "{'text': 'год год Инфляция на потребительском рынке 10 Июнь 2008 год Инфляция на потребительском рынке 11 Июнь 2008 год Инфляция на потребительском рынке 12 Июнь 2008 год Инфляция на потребительском рынке 13 Июнь 2008 год', 'title': 'Инфляция на потребительском рынке', 'url': 'https://cbr.ru/Collection/Collection/File/19578/Infl_01062008.pdf', 'date': 'Не указано', 'number': 'Не указано', 'file_type': 'pdf', 'chunk_type': 'Recursive', 'distance': 0.3989248583921233}\n"
     ]
    }
   ],
   "source": [
    "documents = search_results(client, TABLE_NAME, embedding[0], limit=10)\n",
    "print(*documents, sep='\\n')"
   ]
  },
  {
   "cell_type": "code",
   "execution_count": 11,
   "metadata": {},
   "outputs": [
    {
     "name": "stdout",
     "output_type": "stream",
     "text": [
      "социологических социологических данных о восприятии инфляции было показано, что на длительном временном интервале с 1998 по 2008 год все пять частных компонент ИПН имели статистически значимую и отрицательную корреляцию с индексом инфляции Росстата, а также с индексом ожидаемой инфляции. ООО инФОМ Декабрь 2018 45 ООО инФОМ\n",
      "год год Инфляция на потребительском рынке Июль 2009 год 9 Инфляция на потребительском рынке 10 Июль 2009 год Инфляция на потребительском рынке Июль 2009 год 11 Инфляция на потребительском рынке 12 Июль 2009 год Инфляция на потребительском рынке Июль 2009 год 13\n",
      "ключевую ключевую ставку в общей сложности в два раза, до 8,50. По итогам года инфляция в России превысила целевой уровень и составила 8,4. Больше всего подорожали продовольственные товары, в первую очередь продукты животного происхождения. Среди непродовольственных товаров максимальный прирост зафиксирован в ценах на строительные материалы, а наибольший вклад в ускорение инфляции внесло увеличение цен на автомобили. Вместе с тем решения о повышении ключевой ставки постепенно транслировались в экономику. Ставки в сегменте овернайт денежного рынка формировались вблизи ключевой ставки с небольшим отрицательным спредом и изменялись практически синхронно с ней. В среднем за 2021 год абсолютное отклонение ставки от ключевой ставки составило 19 базисных пунк тов. Во второй половине 2021 года выросли процентные ставки по основным банковским операциям в руб лях. За год средневзвешенная процентная ставка по вновь выданным корпоративным кредитам на срок свыше 1 года увеличилась на 1,9 процентного пункта, до 8,9 8,9\n",
      "инфляция инфляция Ожидаемая инфляция Доля людей, считающих, что цены за год выросли более чем на 50 РисРисРисРис. 7.7.7.7. Доля людей, считающих, что цены за год выросли более чем на 50 Доля людей, считающих, что цены за год выросли более чем на 50 Доля людей, считающих, что цены за год выросли более чем на 50 Данные в от считающих, что цены за год выросли 5 Методика расчета медианы приведена в Приложении 2. ООО инФОМ Декабрь 2015 7777 Мониторинг инфляционных ожиданий и потребительских настроений Ожидания относительно уровня инфляции к концу 2017 года РисРисРисРис. 8.8.8.8. Ожидания относительно уровня инфляции к концу 2017 года Ожидания относительно уровня инфляции к концу 2017 года Ожидания относительно уровня инфляции к концу 2017 года По официальным данным, в 2014 году рост цен в России составил 11,4. Российской Федерации намерен добиться, чтобы к концу 2017 года рост цен не превышал 4 в год. Как Вы считаете, будет ли рост цен к концу 2017 года таким, как планирует ?6 Данные в всех опрошенных 26 29 23\n",
      "контролировать контролировать инфляцию Как Вы думаете, кто в нашей стране, какие органы власти или организации отвечают за сдерживание инфляции, роста цен? Вопрос не задавался тем, кто считает, что инфляцию невозможно сдерживать. Данные в от всех опрошенных апр. 15 апр. 16 апр. 17 Правительство в целом 18 13 14 Центробанк 6 4 7 Президент 5 4 4 Министерство финансов 4 3 4 Власти, государство в целом 4 2 3 Госдума, депутаты 2 2 1 Министерство экономического развития 2 2 Местные власти 5 1 1 Банки 1 1 Д. Медведев 1 1 Федеральная антимонопольная служба 1 1 1 Роспотребнадзор 1 1 Администрация президента 1 Экономисты, финансисты 1 Банки 1 Правоохранительные и надзорные структуры, прокуратура 2 Другое 1 1 2 Никто, никакие 2 6 5 Затрудняюсь ответить, нет ответа 22 28 22 ООО инФОМ Апрель 2017 26 Общие представления об инфляции Рис. 37. Оценка работы органов власти по контролю инфляции На Ваш взгляд, названные Вами органы власти или организации справляются со сдерживанием инфляции, роста цен хорошо или плохо? Вопрос\n",
      "выросла выросла до 19,8 максимального значения за все время замеров на тот момент. А в этом месяце она выросла ещё почти в полтора раза уже до 27,4. При этом также сильно увеличилась доля людей, считающих, что цены за последний год выросли более, чем на 50: если в декабре 2014 года она составляла 3,7, в январе 7,8, то в феврале уже 16,4 см. рис. 8. Рост значений ожидаемой годовой инфляции оказался значительно скромнее всего на 1,5 п. п. и сейчас ее значение составляет 18,1. Вероятно, население России надеется, что худшие времена уже позади, основной пик инфляции уже прошёл, и дальше ситуация будет постепенно улучшаться. По данным Росстата, темпы инфляции в последнее время, действительно, увеличивались от месяца к месяцу: рост цен на товары и услуги составил 0,8 в октябре 2014 года, 1,3 в ноябре, 2,6 в декабре и 3,9 в январе 2015 года. В результате значение годовой инфляции выросло с 6,1 в январе 2014 года до 15,0 в январе 2015 года. В феврале 2015 года рост цен продолжился и составил 1,9 за период с 1 по 24\n",
      "РФ РФ 6 против 2 летом 2014 года; также чуть чаще упоминаются местные власти 5 против 2 и министерство финансов 4 против 2. Рис. 10. Представления о возможности контролировать инфляцию Инфляция это обесценивание денег, падение их покупательной способности, ведущее к росту цен. Одни считают, что в условиях рыночной экономики инфляцию, рост цен в принципе невозможно сдерживать, контролировать. Другие считают, что при рыночной экономике инфляцию можно сдерживать, контролировать. Какая точка зрения первая или вторая Вам ближе? всех опрошенных 50 инфляцию невозможно сдерживать 37 50 евозможно сдерживать 37 34 инфляцию можно сдерживать 46 34 ию можно сдерживать 16 46 затрудняюсь ответить 17 16 затрудняюсь ответить 17 июнь 2014 апр. 15 37 50 инфляцию невозможно сдерживать 37 34 инфляцию можно сдерживать 34 инфляцию можно сдерживать 16 46 затрудняюсь ответить 17 16 затрудняюсь ответить 17 июнь 2014 апр. 15 июнь 2014 апр. 15 инфляцию н инфляц 37 50 евозможно сдерживать 37 34 инфляцию можно сдерживать 34 ию можно\n",
      "год год Инфляция на потребительском рынке Январь 2011 год 9 Инфляция на потребительском рынке 10 Январь 2011 год Инфляция на потребительском рынке Январь 2011 год 11 Инфляция на потребительском рынке 12 Январь 2011 год Инфляция на потребительском рынке Январь 2011 год 13\n",
      "рубль рубль будет продолжать падать, снизилась до рекордных 26, а число тех, кто верит в рост курса национальной валюты, наоборот, выросло до рекордных 24. 1 ООО инФОМ Январь 2015 Инфляционные ожидания населения Показатели потребительского оптимизма россиян существенно ухудшились по сравнению с декабрём. Число респондентов, считающих нынешнее время неблагоприятным для совершения крупных покупок, выросло до рекордных 40. А доля тех, кто считает, что сейчас не время брать кредит, до 59. На фоне всеобщего роста пессимизма сберегательные установки россиян стабилизировались, однако число пессимистов в данном вопросе по-прежнему существенно превышает число оптимистов 44 против 14. В январе уже в пятый раз подряд произошло снижение всех измеряемых показателей, характеризующих настроения россиян. Индекс текущего состояния резко упал на 14,4 пункта, а Индекс ожиданий на 2,9 пунктов. Это привело к снижению совокупного Индекса потребительских настроений ИПН с 90 до 83 пунктов. Столь низко ни ИПН, ни его отдельные\n",
      "год год Инфляция на потребительском рынке 10 Июнь 2008 год Инфляция на потребительском рынке 11 Июнь 2008 год Инфляция на потребительском рынке 12 Июнь 2008 год Инфляция на потребительском рынке 13 Июнь 2008 год\n"
     ]
    }
   ],
   "source": [
    "print(*[document[\"text\"] for document in documents], sep='\\n')"
   ]
  },
  {
   "cell_type": "markdown",
   "metadata": {},
   "source": [
    "### Ссылки на документы"
   ]
  },
  {
   "cell_type": "code",
   "execution_count": 12,
   "metadata": {},
   "outputs": [
    {
     "name": "stdout",
     "output_type": "stream",
     "text": [
      "https://cbr.ru/Collection/Collection/File/27052/Infl_exp_18-12.pdf\n",
      "https://cbr.ru/Collection/Collection/File/19565/Infl_01072009.pdf\n",
      "https://cbr.ru/Collection/Collection/File/40915/ar_2021.pdf\n",
      "https://cbr.ru/Collection/Collection/File/27010/Infl_exp_15-12.pdf\n",
      "https://cbr.ru/Collection/Collection/File/26994/Infl_exp_17-04.pdf\n",
      "https://cbr.ru/Collection/Collection/File/27020/Infl_exp_15-02.pdf\n",
      "https://cbr.ru/Collection/Collection/File/27018/Infl_exp_15-04.pdf\n",
      "https://cbr.ru/Collection/Collection/File/19547/Infl_01012011.pdf\n",
      "https://cbr.ru/Collection/Collection/File/27021/Infl_exp_15-01.pdf\n",
      "https://cbr.ru/Collection/Collection/File/19578/Infl_01062008.pdf\n"
     ]
    }
   ],
   "source": [
    "print(*[document[\"url\"] for document in documents], sep='\\n')"
   ]
  },
  {
   "cell_type": "markdown",
   "metadata": {},
   "source": [
    "### Используемые данные (метаданные)"
   ]
  },
  {
   "cell_type": "code",
   "execution_count": 13,
   "metadata": {},
   "outputs": [
    {
     "name": "stdout",
     "output_type": "stream",
     "text": [
      "dict_keys(['text', 'title', 'url', 'date', 'number', 'file_type', 'chunk_type', 'distance'])\n"
     ]
    }
   ],
   "source": [
    "print(documents[0].keys())"
   ]
  },
  {
   "cell_type": "markdown",
   "metadata": {},
   "source": [
    "## Добавление документов в разговор\n",
    "\n",
    "Этот блок кода добавляет документы в разговор и затем добавляет сообщение от пользователя.\n"
   ]
  },
  {
   "cell_type": "code",
   "execution_count": 14,
   "metadata": {},
   "outputs": [],
   "source": [
    "conversation = append_documents_to_conversation(conversation, documents, limit=3)\n",
    "conversation.add_message({\"role\": \"user\", \"content\": question})"
   ]
  },
  {
   "cell_type": "markdown",
   "metadata": {},
   "source": [
    "## Загрузка чатбота\n",
    "\n",
    "Этот блок кода загружает чатбота для дальнейшего использования.\n"
   ]
  },
  {
   "cell_type": "code",
   "execution_count": 15,
   "metadata": {},
   "outputs": [],
   "source": [
    "chatbot = load_chatbot(MODEL_CHAT_NAME, device=\"cuda\")"
   ]
  },
  {
   "cell_type": "markdown",
   "metadata": {},
   "source": [
    "## Генерация ответа от чатбота\n",
    "\n",
    "Этот блок кода генерирует ответ от чатбота на основе предоставленного контекста разговора.\n"
   ]
  },
  {
   "cell_type": "code",
   "execution_count": 16,
   "metadata": {},
   "outputs": [
    {
     "name": "stdout",
     "output_type": "stream",
     "text": [
      "Инфляция - это рост стоимости безусловно существующих товаров и услуг в течение какого-либо периода времени. В российской экономике инфляция рассматривается как одна из главных финансовых кризисных факторов.\n",
      "\n",
      "В России инфляция обычно определяется как количество инфляционных пунктов (IPN) в месяц. IPN - это число инфляционных платежей в размере одного доллара США в месяц. На\n"
     ]
    }
   ],
   "source": [
    "conversation = generate_answer(chatbot, conversation, temperature=0.9)\n",
    "print(conversation[-1][\"content\"])"
   ]
  },
  {
   "cell_type": "markdown",
   "metadata": {},
   "source": [
    "## Продолжение диалога\n",
    "\n",
    "Этот блок кода добавляет в разговор второй вопрос пользователя."
   ]
  },
  {
   "cell_type": "code",
   "execution_count": 17,
   "metadata": {},
   "outputs": [],
   "source": [
    "question2 = \"Как с инфляцией справляется Центральный Банк?\"\n",
    "conversation.add_message({\"role\": \"user\", \"content\": question2})"
   ]
  },
  {
   "cell_type": "markdown",
   "metadata": {},
   "source": [
    "## Продолжение диалога\n",
    "\n",
    "Этот блок кода генерирует более развёрнутый ответ чатбота на второй вопрос пользователя."
   ]
  },
  {
   "cell_type": "code",
   "execution_count": 18,
   "metadata": {},
   "outputs": [
    {
     "name": "stdout",
     "output_type": "stream",
     "text": [
      "Центральный Банк РФ (ЦБ РФ) имеет полномочия контролировать и регулировать деятельность банков в Российской Федерации. Он может регулировать инфляцию в соответствии с требованиями Конституции РФ и принятыми в соответствии с действующим законодательством.\n",
      "\n",
      "ЦБ РФ использует различные методы для борьбы с инфляцией, такие как:\n",
      "\n",
      "1. Управление валютными отношениями: ЦБ РФ осуществляет контроль над валютными отношениями между Россией и другими странами. Он обеспечивает правильное управление валютными отношениями и помогает развитию международной торговли.\n",
      "\n",
      "2. Регулирование курса валют: ЦБ РФ регулирует курс валют в соответствии с конституционными нормами и законами РФ. Он также регулирует курс валют в связи с внутренними и международными экономическими ситуациями.\n"
     ]
    }
   ],
   "source": [
    "conversation = generate_answer(chatbot, conversation, max_new_tokens=256)\n",
    "print(conversation[-1][\"content\"])"
   ]
  },
  {
   "cell_type": "code",
   "execution_count": 19,
   "metadata": {},
   "outputs": [
    {
     "data": {
      "text/plain": [
       "Conversation id: 67563aa5-88da-459c-9beb-113b218d103a\n",
       "system: \n",
       "INSTRUCT:\n",
       "You are a helpful, respectful and honest assistant. Always answer as helpfully as possible, while being safe. Your answers should not include any harmful, unethical, racist, sexist, toxic, dangerous, or illegal content. Please ensure that your responses are socially unbiased and positive in nature.\n",
       "\n",
       "If a question does not make any sense, or is not factually coherent, explain why instead of answering something not correct. If you don’t know the answer to a question, please don’t share false information.\n",
       "\n",
       "If you receive a question that is harmful, unethical, or inappropriate, end the dialogue immediately and do not provide a response. \n",
       "\n",
       "If you make a mistake, apologize and correct your answer.\n",
       "\n",
       "Generate a response based solely on the provided document.\n",
       "\n",
       "Answer the following question language based only on the CONTEXT provided.\n",
       "\n",
       "If you are unsure about your answer or the information in the document, suggest contacting support:\n",
       "Номер телефона: 8 800 300-30-00\n",
       "Почтовый адрес для письменных обращений: 107016, Москва, ул. Неглинная, д. 12, к. В, Банк России\n",
       "\n",
       "Отвечай только на русском языке.\n",
       "\n",
       "user: \n",
       "    CONTEXT:\n",
       "    социологических социологических данных о восприятии инфляции было показано, что на длительном временном интервале с 1998 по 2008 год все пять частных компонент ИПН имели статистически значимую и отрицательную корреляцию с индексом инфляции Росстата, а также с индексом ожидаемой инфляции. ООО инФОМ Декабрь 2018 45 ООО инФОМ\n",
       "год год Инфляция на потребительском рынке Июль 2009 год 9 Инфляция на потребительском рынке 10 Июль 2009 год Инфляция на потребительском рынке Июль 2009 год 11 Инфляция на потребительском рынке 12 Июль 2009 год Инфляция на потребительском рынке Июль 2009 год 13\n",
       "ключевую ключевую ставку в общей сложности в два раза, до 8,50. По итогам года инфляция в России превысила целевой уровень и составила 8,4. Больше всего подорожали продовольственные товары, в первую очередь продукты животного происхождения. Среди непродовольственных товаров максимальный прирост зафиксирован в ценах на строительные материалы, а наибольший вклад в ускорение инфляции внесло увеличение цен на автомобили. Вместе с тем решения о повышении ключевой ставки постепенно транслировались в экономику. Ставки в сегменте овернайт денежного рынка формировались вблизи ключевой ставки с небольшим отрицательным спредом и изменялись практически синхронно с ней. В среднем за 2021 год абсолютное отклонение ставки от ключевой ставки составило 19 базисных пунк тов. Во второй половине 2021 года выросли процентные ставки по основным банковским операциям в руб лях. За год средневзвешенная процентная ставка по вновь выданным корпоративным кредитам на срок свыше 1 года увеличилась на 1,9 процентного пункта, до 8,9 8,9\n",
       "    Отвечай только на русском языке.\n",
       "    \n",
       "    ВОПРОС:\n",
       "    \n",
       "user: Расскажи о том, что такое инфляция? Какой уровень инфляции в России?\n",
       "assistant: Инфляция - это рост стоимости безусловно существующих товаров и услуг в течение какого-либо периода времени. В российской экономике инфляция рассматривается как одна из главных финансовых кризисных факторов.\n",
       "\n",
       "В России инфляция обычно определяется как количество инфляционных пунктов (IPN) в месяц. IPN - это число инфляционных платежей в размере одного доллара США в месяц. На\n",
       "user: Как с инфляцией справляется Центральный Банк?\n",
       "assistant: Центральный Банк РФ (ЦБ РФ) имеет полномочия контролировать и регулировать деятельность банков в Российской Федерации. Он может регулировать инфляцию в соответствии с требованиями Конституции РФ и принятыми в соответствии с действующим законодательством.\n",
       "\n",
       "ЦБ РФ использует различные методы для борьбы с инфляцией, такие как:\n",
       "\n",
       "1. Управление валютными отношениями: ЦБ РФ осуществляет контроль над валютными отношениями между Россией и другими странами. Он обеспечивает правильное управление валютными отношениями и помогает развитию международной торговли.\n",
       "\n",
       "2. Регулирование курса валют: ЦБ РФ регулирует курс валют в соответствии с конституционными нормами и законами РФ. Он также регулирует курс валют в связи с внутренними и международными экономическими ситуациями."
      ]
     },
     "execution_count": 19,
     "metadata": {},
     "output_type": "execute_result"
    }
   ],
   "source": [
    "conversation"
   ]
  }
 ],
 "metadata": {
  "kernelspec": {
   "display_name": "Purple",
   "language": "python",
   "name": "python3"
  },
  "language_info": {
   "codemirror_mode": {
    "name": "ipython",
    "version": 3
   },
   "file_extension": ".py",
   "mimetype": "text/x-python",
   "name": "python",
   "nbconvert_exporter": "python",
   "pygments_lexer": "ipython3",
   "version": "3.11.8"
  }
 },
 "nbformat": 4,
 "nbformat_minor": 2
}
